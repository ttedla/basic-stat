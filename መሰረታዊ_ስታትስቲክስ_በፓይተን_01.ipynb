{
 "cells": [
  {
   "cell_type": "markdown",
   "metadata": {},
   "source": [
    "# መግቢያ"
   ]
  },
  {
   "cell_type": "markdown",
   "metadata": {},
   "source": [
    "ስለ ስታትስቲክስ ምንነት እና ብያኔ የስታትስቲክስ መጽሐፍ ምንበብ ይቻላል። በአጭሩ ግን ስታትስቲክስ \"በአግባቡ\" ጥቅም ላይ ሲውል፤ ውሂብ (ዳታ) ላይ የተመሰረተ እውቀት ለመሰብሰብ እና ውሳኔ ለማሳለፍ ይረዳል። በአግባቡ የሚለውን በጥቅስ ውስጥ ያስቀመጥኩት የትኛው የስታትስቲክስ መለኪያ ለየትኛው ትንተና አግባብ እንደሆነ መለየት እና መጠቀምን ስለሚፈልግ ነው። \n",
    "\n",
    "በዚህ ክፍል መሰረታዊ የሆኑትን ወይም በስታትስቲክስ ቋንቋ ገላጭ ስታትስቲክስ (ዲስክሪፕቲቭ ስታትስቲክስ) የምንላቸውን እንመለከታለን። የማዕከላዊነት መለኪያዎች (ሜዠር ኦፍ ሴንተራል ቴንደንሲ) እና የስብጥርነት መለኪያዎች (ሜዤር ኦፍ ስፕሪድ) የምንላቸውን እንመለከታለን። \n",
    "\n",
    "ለዚህም ይረዳን ዘንድ ፓይተን ፕሮግራም መጻፊያን ቋንቋ እንጠቀማለን። በተጨማሪም ሃሳቦችን በተግባር ለማየት ይረዳን ዘንድ አዲስ አበባ ዩኒቨርስቲ በ 2013 ካሳተመው የዩኒቨርስቲው መገለጫ (ፕሮፋይል) ላይ ያገኘሁትን ዊሂብ ወይም ዳታ እንጠቀማለን። ውሂብ በሚለው አቃፊ ውስጥ ታገኙታላችሁ። ውሂቡ በአአዩ እስከ 2010 ድረስ የተመረቁ ተማሪዎችን ብዛት በ መርሀግብር ከፋፍሎ የሚያሳይ ነው። \n",
    "\n",
    "*** \n",
    "መሰረታዊ የፓይተን እና የስታትስቲክስ እውቀት አላችሁ ተብሎ ይገመታል። \n",
    "*** "
   ]
  },
  {
   "cell_type": "markdown",
   "metadata": {},
   "source": [
    "# ውሂቡን ማንበብ"
   ]
  },
  {
   "cell_type": "markdown",
   "metadata": {},
   "source": [
    "ውሂቡን ለማንበብ የውሂቡን አይነት ማወቅ አለብን። ይህንንም ከፋይሉ ቅጥያ መረዳት እንችላለን። CSV ፋይል ነው። እንደዚህ አይነት ፋይሎችን ለማንበብ የሚረዳ ፓይተን ውስጥ CSV የሚባል መገልገያ አለ። እሱን በመጥራት በቀላሉ ፋይሉን ማንበብ እንችላለን። "
   ]
  },
  {
   "cell_type": "code",
   "execution_count": 1,
   "metadata": {},
   "outputs": [],
   "source": [
    "# ውሂቡን በተለያየ መንገድ ማንበብ እንችላለን። \n",
    "# ለትንተናው ቀላል እንዲሆንልን በ ዝርዝር ላይ እናንበበው \n",
    "# csvን እንጥራው \n",
    "import csv\n",
    "# ፋይሉን እናንበበው \n",
    "with open(\"./ውሂብ/የምረቃ_ውሂብ.csv\", 'r', encoding='utf-8') as ፋይል:\n",
    "    ውሂብ = list(csv.reader(ፋይል))"
   ]
  },
  {
   "cell_type": "code",
   "execution_count": 2,
   "metadata": {},
   "outputs": [
    {
     "data": {
      "text/plain": [
       "[['የተመረቁበት ዓም', 'በ ሰርተፍኬት ', 'በዲፕሎማ', 'በዲግሪ', 'በድሕረ ምረቃ'],\n",
       " ['1952', '', '11', '', ''],\n",
       " ['1953', '', '9', '', ''],\n",
       " ['1954', '', '5', '13', ''],\n",
       " ['1955', '11', '44', '9', '']]"
      ]
     },
     "execution_count": 2,
     "metadata": {},
     "output_type": "execute_result"
    }
   ],
   "source": [
    "# ውሂቡ ምን እንደሚመስል ግንዛቤ ለመውሰድ የመጀመሪያ አምቱን ረድፍ እንመልከት። \n",
    "ውሂብ[:5]"
   ]
  },
  {
   "cell_type": "markdown",
   "metadata": {},
   "source": [
    "# ገላጭ ስታትስቲክስ"
   ]
  },
  {
   "cell_type": "markdown",
   "metadata": {},
   "source": [
    "ውሂብ (ዳታ) ልናጠና ስለፈለግነው ክስተት ወይም ድርጊት ምልከታችንን መዝግበን የምንይዝበት ነው። ለምሳሌ የተጠቀምነው ውሂብ በአአዩ ከ 1952 እስክ 2010 ድረስ በዩኒቨርስቲው የተመረቁ ተማሪዎችን መዝግቦ የያዘ ሰነድ ነው። ውሂቡን በመጠቀም ትንተናዎችን ማካሄድ እንችላለን። ለምሳሌ በአማካይ ዩኒቨርስቲው በየዓመቱ ምን ያህል ተማሪዎችን ያስመርቃል? ከፍተኛው እና ዝቅተኛው የተማሪ ቁጥር ምረቃ የተካሄደው መቼ ነው? እነዚህ እና ተዛማጅ የሆኑ ጥያቄዎችን መመለስ እንችላለን። "
   ]
  },
  {
   "cell_type": "markdown",
   "metadata": {},
   "source": [
    "## የማዕከላዊነት መለኪያዎች  "
   ]
  },
  {
   "cell_type": "markdown",
   "metadata": {},
   "source": [
    "### አማካኝ (ሚን)"
   ]
  },
  {
   "cell_type": "markdown",
   "metadata": {},
   "source": [
    "አማካኝ ($\\bar{አ}$) ወይም ሚን የምንለው የማዕከላዊነት መለኪያ ነው። አማካይ እንደሚከተለው ይቀመራል። \n",
    "\n",
    "*** \n",
    "$\\bar{አ} = \\frac{\\sum{አ}}{ብ} \\Rightarrow $ አ (የእያንዳንዱ ምልከታ እሴት)፤ ብ(የእሴቶቹ ቆጠራ ብዛት) \n",
    "*** \n",
    "\n",
    "ይኼ ማለት በውሂባችን ከሚገኙ ምልከታዎች አንዱን እሴት በዘፈቀደ ብንወስድ ከአማካዩ ጋር የተቀራረበ (አማካዩን እራሱ ካልሆነ) እሴት እናገኛለን ማለት ነው።   "
   ]
  },
  {
   "cell_type": "code",
   "execution_count": 15,
   "metadata": {},
   "outputs": [],
   "source": [
    "# የዲፕሎማ ተማሪዎችን እንውሰድ እና አማካዩን እንስራ\n",
    "# የዲፕሎ ተመራቂ ተማሪዎች ሦስተኛውን አምድ (ኮለመን) እንወስዳለን። \n",
    "# በፓይተን ሦስተኛው አምድ በ 2 ይወከላል። የአምድ ጠቋሚ ቁጥር ከ ዜሮ ስለሚጀምር። \n",
    "ዲፕሎማ_ተመራቂ = [float(ዲ[2]) for ዲ in ውሂብ[1:]] "
   ]
  },
  {
   "cell_type": "code",
   "execution_count": 16,
   "metadata": {},
   "outputs": [
    {
     "data": {
      "text/plain": [
       "[11.0, 9.0, 5.0, 44.0, 1.0, 1.0, 31.0, 49.0, 28.0, 18.0]"
      ]
     },
     "execution_count": 16,
     "metadata": {},
     "output_type": "execute_result"
    }
   ],
   "source": [
    "ዲፕሎማ_ተመራቂ[:10]"
   ]
  },
  {
   "cell_type": "code",
   "execution_count": 17,
   "metadata": {},
   "outputs": [],
   "source": [
    "# አጠቃላይ የዲፕሎማ ተመራቂዎች ድምር \n",
    "አጠቃላይ_ዲፕሎማ_ተመራቂ = sum(ዲፕሎማ_ተመራቂ)"
   ]
  },
  {
   "cell_type": "code",
   "execution_count": 18,
   "metadata": {},
   "outputs": [],
   "source": [
    "#አጠቃላይ ምልከታ ብዛት \n",
    "የምልከታ_ብዛት=len(ዲፕሎማ_ተመራቂ)"
   ]
  },
  {
   "cell_type": "code",
   "execution_count": 19,
   "metadata": {},
   "outputs": [],
   "source": [
    "# አማካኙ እንደሚከተለው ይሆናል ማለት ነው። \n",
    "አማካኝ = አጠቃላይ_ዲፕሎማ_ተመራቂ/የምልከታ_ብዛት"
   ]
  },
  {
   "cell_type": "code",
   "execution_count": 20,
   "metadata": {},
   "outputs": [
    {
     "data": {
      "text/plain": [
       "770.7796610169491"
      ]
     },
     "execution_count": 20,
     "metadata": {},
     "output_type": "execute_result"
    }
   ],
   "source": [
    "አማካኝ"
   ]
  },
  {
   "cell_type": "markdown",
   "metadata": {},
   "source": [
    "ይኼ እንደሚነግረን አዲስ አበባ ዩኒቨርስቲ በአማካኝ በየዓመቱ 771 ተማሪዎችን በዲፕሎማ ያስመርቃል ማለት ነው። አማካኙን ላይ ብቻ ተንተርሰን ውሳኔ ላይ መድረስ አንችልም። ከ አማካኝ ጋር ዝምድና ያለው የማእከላዊነት መለኪያ አጋማሽ (ሚዲያን) የምንለው ነው።  "
   ]
  },
  {
   "cell_type": "markdown",
   "metadata": {},
   "source": [
    "### አጋማሽ (ሚዲያን)"
   ]
  },
  {
   "cell_type": "markdown",
   "metadata": {},
   "source": [
    "አጋማሽ ማለት መካከለኛው እሴት ማለት ነው። መካከለኛው እሴት ስንል፣ ውሂባችንን  በረድፍ ከላይ ወደታች ካስያዝን ቦኋላ መካከለኛውን እሴት መውሰድ ማለት ነው። የውሂቡ እርዝማኔ ሙሉ ቁጥር ከሆነ የመካከለኛ ሁለቱን አማካኝ እንደ አጋማሽ እንወስደዋለን። "
   ]
  },
  {
   "cell_type": "code",
   "execution_count": 21,
   "metadata": {},
   "outputs": [],
   "source": [
    "# የዲፕሎማ ተመራቂዎችን አጋማሽ ፍለጋ \n",
    "ዲፕሎማ_ተመራቂ = [float(ዲ[2]) for ዲ in ውሂብ[1:]] \n",
    "#አጠቃላይ ምልከታ ብዛት \n",
    "የምልከታ_ብዛት=len(ዲፕሎማ_ተመራቂ)\n"
   ]
  },
  {
   "cell_type": "code",
   "execution_count": 23,
   "metadata": {},
   "outputs": [
    {
     "data": {
      "text/plain": [
       "[11.0, 9.0, 5.0, 44.0, 1.0, 1.0, 31.0, 49.0, 28.0, 18.0]"
      ]
     },
     "execution_count": 23,
     "metadata": {},
     "output_type": "execute_result"
    }
   ],
   "source": [
    "ዲፕሎማ_ተመራቂ[:10]"
   ]
  },
  {
   "cell_type": "code",
   "execution_count": 24,
   "metadata": {},
   "outputs": [
    {
     "data": {
      "text/plain": [
       "59"
      ]
     },
     "execution_count": 24,
     "metadata": {},
     "output_type": "execute_result"
    }
   ],
   "source": [
    "የምልከታ_ብዛት"
   ]
  },
  {
   "cell_type": "code",
   "execution_count": 26,
   "metadata": {},
   "outputs": [
    {
     "data": {
      "text/plain": [
       "30.0"
      ]
     },
     "execution_count": 26,
     "metadata": {},
     "output_type": "execute_result"
    }
   ],
   "source": [
    "#የምልከታ ብዛቱ ጎዶሎ ቁጥር ስለሆነ \n",
    "# የአጋማሹ ጠቋሚ (የምልከታ_ብዛት/2)+0.5 ይሆናል \n",
    "(የምልከታ_ብዛት/2)+0.5"
   ]
  },
  {
   "cell_type": "code",
   "execution_count": 27,
   "metadata": {},
   "outputs": [],
   "source": [
    "# ሰላሳኛውን እሴት ለማግኘት ውሂባችንን ከትንሽ ወደትልቅ ረድፍ እናስይዝ \n",
    "ረድፍ_የያዘ_ዲ_ተመራቂ=sorted(ዲፕሎማ_ተመራቂ)"
   ]
  },
  {
   "cell_type": "code",
   "execution_count": 28,
   "metadata": {},
   "outputs": [
    {
     "data": {
      "text/plain": [
       "[1.0, 1.0, 5.0, 9.0, 11.0, 15.0, 18.0, 24.0, 26.0, 28.0]"
      ]
     },
     "execution_count": 28,
     "metadata": {},
     "output_type": "execute_result"
    }
   ],
   "source": [
    "ረድፍ_የያዘ_ዲ_ተመራቂ[:10]"
   ]
  },
  {
   "cell_type": "code",
   "execution_count": 34,
   "metadata": {},
   "outputs": [
    {
     "data": {
      "text/plain": [
       "679.0"
      ]
     },
     "execution_count": 34,
     "metadata": {},
     "output_type": "execute_result"
    }
   ],
   "source": [
    "# ሰላሳኛው እሴት ማለት በ 29ነኛው ረድፍ የሚገኘው ነው (ፓይተን ጠቋሚ መቁጠር የሚጀምረው ከ ዜሮ ነው።)\n",
    "#እሱንም ለማግኘት ረድፍ_የያዘ_ዲ_ተመራቂ[29] ማሮጥ ነው። \n",
    "ረድፍ_የያዘ_ዲ_ተመራቂ[29]"
   ]
  },
  {
   "cell_type": "markdown",
   "metadata": {},
   "source": [
    "አጋማሹ 679 ሲሆን አማካኙ 771 ነው። እንደምንመለከተው ሁለቱ ልዩነት አል። አማካኝ ለጽንፍ ወይም አውትላየር የተጋለጠ ነው። አጋማሹ በጽንፍ አይጠቃም። አማካኙ ሁሉንም እሴቶች ከግንዛቤ አስገብቶ ስለሚደምር፣ በጽንፍ የሚገኙ እሴቶች ተጽኖ ያሳድሩበታል። እስቲ ትንሹን እና ትልቁን እሴት በውሂባችን እንመልከት።  "
   ]
  },
  {
   "cell_type": "code",
   "execution_count": 35,
   "metadata": {},
   "outputs": [],
   "source": [
    "# ትልቁን እና ትንሹን እሴት ከውሂባችን ውስጥ እንፈልግ። \n",
    "ዲፕሎማ_ተመራቂ = [float(ዲ[2]) for ዲ in ውሂብ[1:]]\n",
    "አነስተኛ, ከፍተኛ = [min(ዲፕሎማ_ተመራቂ), max(ዲፕሎማ_ተመራቂ)]"
   ]
  },
  {
   "cell_type": "code",
   "execution_count": 36,
   "metadata": {},
   "outputs": [
    {
     "data": {
      "text/plain": [
       "(1.0, 3299.0)"
      ]
     },
     "execution_count": 36,
     "metadata": {},
     "output_type": "execute_result"
    }
   ],
   "source": [
    "አነስተኛ, ከፍተኛ"
   ]
  },
  {
   "cell_type": "markdown",
   "metadata": {},
   "source": [
    "ጽንፍ በውሂባችን እንደሚገኝ ማረጋገጥ እንችላለን። አጋማሽ 679 እና አማካኝ 771 በሆነበት 1 ተመራቂ መገኘት ወይም 3299 ተመረቂ መገኘት ጽንፍ መኖሩን ያረጋግጥልናል። ጽንፎቹም ውሂቡን በምንሰበስብበት ግዜ የተፈጠረ ስህተትን ጠቋሚ ሊሆኑ ይችላሉ። ላይሆኑም ይችላሉ። ነገር ግን በውሂባችን ውስጥ መኖራቸውን ማስተዋሉ ጥሩ ነው። "
   ]
  },
  {
   "cell_type": "markdown",
   "metadata": {},
   "source": [
    "### ተደጋጋሚው እሴት (ሞድ)"
   ]
  },
  {
   "cell_type": "markdown",
   "metadata": {},
   "source": [
    "ሌላኛው የማእከላዊነት መለኪያው ተደጋጋሚው እሴት ወይም ሞድ የምንለው ነው። ተደጋጋሚው እሴት (በውሂቡ ውስጥ ከመደጋገሙ የተነሳ) በአማካኙ ላይ ተጽኖ ይኖረዋል። ተደጋጋሚው እሴት እንደሚከተለው ማግኘት እንችላለን።  "
   ]
  },
  {
   "cell_type": "code",
   "execution_count": 38,
   "metadata": {},
   "outputs": [
    {
     "name": "stdout",
     "output_type": "stream",
     "text": [
      "1.0 2\n"
     ]
    }
   ],
   "source": [
    "#ተደጋጋሚውን እሴት (ሞድ) ለማግኘት \n",
    "# ባዶ መዝገበቃል እናውጅ\n",
    "ተደጋጋሚ_ቆጠራ = {}\n",
    "ዲፕሎማ_ተመራቂ = [float(ዲ[2]) for ዲ in ውሂብ[1:]] \n",
    "for እሴት in ዲፕሎማ_ተመራቂ:\n",
    "    if እሴት not in ተደጋጋሚ_ቆጠራ:\n",
    "        ተደጋጋሚ_ቆጠራ[እሴት] =1\n",
    "    else:\n",
    "        ተደጋጋሚ_ቆጠራ[እሴት]+=1\n",
    "        \n",
    "# ተደጋጋሚውን እሴት ለማግኘት \n",
    "# ተደጋጋሚው ዜሮ ግዜ ነው የተደጋገመው ብለን ታሳቢ አድርገን እንነሳ\n",
    "የተደጋጋሚው_ቆጠራ_ብዛት = 0\n",
    "ተደጋጋሚው_እሴት = None\n",
    "\n",
    "for ቁልፍ, እሴት in ተደጋጋሚ_ቆጠራ.items():\n",
    "    if የተደጋጋሚው_ቆጠራ_ብዛት < እሴት:\n",
    "        የተደጋጋሚው_ቆጠራ_ብዛት = እሴት\n",
    "        ተደጋጋሚው_እሴት=ቁልፍ\n",
    "print(ተደጋጋሚው_እሴት, የተደጋጋሚው_ቆጠራ_ብዛት)"
   ]
  },
  {
   "cell_type": "markdown",
   "metadata": {},
   "source": [
    "ከላይ እንደተመለከትነው ተደጋጋሚው እሴት 1 ሲሆን የተደጋገመውም 2 ጊዜ ነው። ስለዚህ የማእከላዊነት መለኪያችንን ብንመለከት አማካኙ (771)፣ አጋማሹ (679) እና ተደጋጋሚው እሴት 1 እሱም በውሂባችን ውስጥ አነስተኛው እሴት ነው።  የተራራቁ መሆኖቸው ስለውሂባችን የሚሰጠን ፍንጭ ቁጥሮቹ በአስተማማኝነት የዲፕሎማ መርሀግብርን ውሂብ ይወክላሉ ለማለት አያስደፍርም። "
   ]
  },
  {
   "cell_type": "markdown",
   "metadata": {},
   "source": [
    "# ማጠቃለያ"
   ]
  },
  {
   "cell_type": "markdown",
   "metadata": {},
   "source": [
    "በዚህ ክፍል የማዕከላዊነት መለኪያ የሆኑትን ስታትስቲካዊ ትንተና መስጫዎችን ፓይተንንን በመጠቀም እንዴት መስራት እንደምንችል ተመልክተናል። በሚቀጥለው ክፍል የስብጥር መለኪያ የሆኑትን እንመለከታለን።  "
   ]
  }
 ],
 "metadata": {
  "kernelspec": {
   "display_name": "Python 3",
   "language": "python",
   "name": "python3"
  },
  "language_info": {
   "codemirror_mode": {
    "name": "ipython",
    "version": 3
   },
   "file_extension": ".py",
   "mimetype": "text/x-python",
   "name": "python",
   "nbconvert_exporter": "python",
   "pygments_lexer": "ipython3",
   "version": "3.6.7"
  }
 },
 "nbformat": 4,
 "nbformat_minor": 2
}
