{
 "cells": [
  {
   "cell_type": "markdown",
   "metadata": {},
   "source": [
    "# አሞሌ ገበታ እና ሂስቶግራም"
   ]
  },
  {
   "cell_type": "markdown",
   "metadata": {},
   "source": [
    "ውሂባችንን ለመተንተን በመሰረታዊነት ከምንጠቀምባቸው ገበታ ወይም ግራፎች ዋነኞቹ ናቸው። ስለውሂቡ መሰረታዊ ጭብጥ በእይታ ከሚያቀርቡልን መካከል በዚህ ክፍል አሞሌ ገበታ (ባር ግራፍ) እና ሂስቶግራምን እንመለከታለን። "
   ]
  },
  {
   "cell_type": "markdown",
   "metadata": {},
   "source": [
    "## አሞሌ ገበታ"
   ]
  },
  {
   "cell_type": "markdown",
   "metadata": {},
   "source": [
    "ምድባዊ (ካቲጎሪካል) ውሂብን ለመተንተን ይጠቅማል። የበላይነት ያለውን ምድብ (ተደጋጋሚውን ወይም ሞድ በእንግሊዘኛ) ለመለየት ይጠቅማል። ለምሳሌ ባጋጣሚ የተመረጡ እድሜያቸው በአስራዎቹ ውስጥ የሚገኙ 250 ወጣቶችን በትርፍ ሰዓታቸው መስራት የሚያስደስታቸውን ብንጠይቃቸው እና 73 ስፖርት መስራት ቢሉ፣ 70 ሙዚቃ መስማት ቢሉ 48 ቴሌቭዝን ማየት ቢሉ እና የተቀሩት 59 ሌሎች ብለን የምንገልጻቸው ምድብ ውስጥ የሚገቡ ስፖርቶችን (ቦታዎችን መጎብኘት፣ መጽሐፍትን ማንበብ እና የመሳሰሉትን) ቢሉ፤ ውሂቡን እንደሚከተለው በ አሞሌ ገበታ ማስቀመጥ እንችላለን።  "
   ]
  },
  {
   "cell_type": "code",
   "execution_count": 33,
   "metadata": {},
   "outputs": [
    {
     "data": {
      "image/png": "[encoded data removed]",
      "text/plain": [
       "<matplotlib.figure.Figure at 0x7f2c5c68a7f0>"
      ]
     },
     "metadata": {
      "needs_background": "light"
     },
     "output_type": "display_data"
    }
   ],
   "source": [
    "# የሚያስፈልጉ ጥቅሎችን እንጥራ\n",
    "# የአማርኛ ቅርጸ ቁምፊ ለመጠቀም የሚረዳ ጥቅል ነው \n",
    "from matplotlib.font_manager import FontProperties\n",
    "# አሞሌ ገበታውን ለመሳል የምንጠቀምበት ጥቅል ነው። \n",
    "import matplotlib.pyplot as plt\n",
    "# ምድቦቹን በጠቋሚ ቁጥር ለማስተካከል የሚረዳ\n",
    "import numpy as np\n",
    "# ኒያላ የሚለውን ለቅርጸ ቁምፊም ንብረት እንድርግ። \n",
    "ቅርጸ_ቁምፊ = FontProperties('Nyala')\n",
    "\n",
    "# ገበታውን እዚሁ ላይ እንዲያሳየን  \n",
    "%matplotlib inline \n",
    " \n",
    "ምድቦች = ('ስፖርት', 'ሙዚቃ', 'ቴሌቭዝን', 'ሌሎች')\n",
    "ዐ_ጠቋሚ = np.arange(len(ምድቦች))\n",
    "ድግግሞሽ = [73,70,48,59]\n",
    "# መሳያ የሚያስፈልገው አሞሌ ገበታውን በፋይል ለማስቀመጥ ከፈለግን ነው። \n",
    "መሳያ = plt.figure() \n",
    "plt.bar(ዐ_ጠቋሚ, ድግግሞሽ, align='center', alpha=0.5)\n",
    "plt.xticks(ዐ_ጠቋሚ, ምድቦች, fontproperties=ቅርጸ_ቁምፊ, fontsize=16)\n",
    "plt.ylabel('ድግግሞሽ', fontproperties=ቅርጸ_ቁምፊ, fontsize=16)\n",
    "plt.title('በትርፍ ግዜ የሚዘወተሩ', fontproperties=ቅርጸ_ቁምፊ, fontsize=20)\n",
    " \n",
    "plt.show()\n",
    "# እንደሚከተለው የተሳለው ወደፋይል ማስቀመጥ እንችላለን። \n",
    "መሳያ.savefig(\"./ውሂብ/አሞሌ_ገበታ_01.pdf\", bbox_inches='tight')"
   ]
  },
  {
   "cell_type": "markdown",
   "metadata": {},
   "source": [
    "እድሜያቸው በአስራዎቹ ውስጥ የሚገኙ 250 ወጣቶች በትርፍ ግዜያቸው ምን መስራት ያስደስታችኋል ተብለው ተጠይቀው፣ በዋናነት የተሰጠው ምላሽ ስፓርት በ 29.2% ወጣቶች ሲሆን፤ ከተቀሩት 28% ወጣቶች ሙዚቃ መስማት እንደሚያዘወትሩ ሲናገሩ፣ 19.2% የሚሆኑት ወጣቶች ቴሌቭዝን እንደሚመለከቱ ተናግረዋል። የተቀሩት 23.6% ልዩ ልዩ (ቦታዎችን መጎብኘት፣ መጽሐፍትን ማንበብ) ስራዎችን በመስራት እንደሚያሳልፉ መልስ ሰጥተዋል።   "
   ]
  },
  {
   "cell_type": "markdown",
   "metadata": {},
   "source": [
    "# ሂስቶግራም"
   ]
  },
  {
   "cell_type": "markdown",
   "metadata": {},
   "source": [
    "ሂስቶግራም ከአሞሌ ገበታ ተመሳሳይነት አለው። በዋናነት በቁጥር (ቀጣይነት ያላቸው ተለዋዋጮችን) የሚገለጹ ተለዋዋጮችን በገበታ መልክ ለማየት ጥቅም ላይ ይውላል።  በምሳሌ እንመልከት፡ \n",
    "*** \n",
    "በአማካኝ ሰዎች በሳምንት ስንት ሰዓት እንደሚሰሩ የሚያሳይ ውሂብ ነው። 35.0፣ 48.0፣ 45.0፣ 43.0፣ 38.2፣ 50.0፣ 39.8፣ 40.7፣ 40.0፣ 50.0፣ 35.4፣ 38.8፣ 40.2፣ 45.0፣ 45.0፣ 40.0፣ 43.0፣ 48.8፣ 43.3፣ 53.1፣ 35.6፣ 44.1፣ 34.8፣ \n",
    "*** \n",
    "ወደሂስቶግራም እንደሚከተለው ይቀየራል።"
   ]
  },
  {
   "cell_type": "code",
   "execution_count": 68,
   "metadata": {},
   "outputs": [
    {
     "data": {
      "image/png": "[encoded data removed]",
      "text/plain": [
       "<matplotlib.figure.Figure at 0x7f2c56099390>"
      ]
     },
     "metadata": {
      "needs_background": "light"
     },
     "output_type": "display_data"
    }
   ],
   "source": [
    "import matplotlib.pyplot as plt\n",
    "import numpy as np\n",
    "\n",
    "ውሂብ = (35.0, 48.0, 45.0, 43.0, 38.2, 50.0, 39.8, 40.7, \\\n",
    "     40.0, 50.0, 35.4, 38.8, 40.2, \\\n",
    "     45.0, 45.0, 40.0, 43.0, 48.8, 43.3, 53.1, 35.6, 44.1, 34.8)\n",
    "# የባሩ ስፋት ምን ያህል እንደሆነ የምንነግርበት ነው። \n",
    "የአሞሌ_ስፋት=5\n",
    "መሳያ = plt.figure() \n",
    "plt.hist(ውሂብ, bins=np.arange(min(ውሂብ)-9.9, max(ውሂብ) + የአሞሌ_ስፋት, የአሞሌ_ስፋት), \\\n",
    "         color='blue', alpha=0.7, edgecolor='red', linewidth=1.2)\n",
    "plt.ylabel('ድግግሞሽ',fontproperties=ቅርጸ_ቁምፊ, fontsize=16)\n",
    "plt.xlabel('ሳምንታዊ አማካይ የስራ ሰዓት',fontproperties=ቅርጸ_ቁምፊ, fontsize=16)\n",
    "plt.show()\n",
    "መሳያ.savefig(\"./ውሂብ/ሂስቶግራም_ገበታ_01.pdf\", bbox_inches='tight')"
   ]
  },
  {
   "cell_type": "markdown",
   "metadata": {},
   "source": [
    "ገበታውን ለመገንዘብ በጥንቃቄ ሳምንታዊ የአማካይ የስራ ሰዓት የሚለውን ምህዋር (አክሲስ) መመልከት አለብን። ስድስት ምህዋሮች አሉ። እነሱም 25-29.9፣ 30-34.9፣ ከ35-39.9፣ ከ40-44.9፣ ከ45-49.9 እና ከ 50 -54.9 ናቸው። ከገበታው እንደምንመለከተው አብዛኛው ሰው (34.78%) በሳምንት ከ40-44.9 ሰዓት ይሰራል። "
   ]
  },
  {
   "cell_type": "markdown",
   "metadata": {},
   "source": [
    "# ማጠቃለያ"
   ]
  },
  {
   "cell_type": "markdown",
   "metadata": {},
   "source": [
    "በዚህ ክፍል አሞሌ ገበታ እና ሂስቶግራምን ለመዳሰስ ሞክረናል። በሚቀጥለው ቦክስፕሎትን እንመለከታለን። በተጨማሪም ከፋልይ ላይ በማንበብ ተስማሚ የሚሆኑ ገበታዎችን እንስላለን።    "
   ]
  },
  {
   "cell_type": "code",
   "execution_count": null,
   "metadata": {},
   "outputs": [],
   "source": []
  }
 ],
 "metadata": {
  "kernelspec": {
   "display_name": "Python 3",
   "language": "python",
   "name": "python3"
  },
  "language_info": {
   "codemirror_mode": {
    "name": "ipython",
    "version": 3
   },
   "file_extension": ".py",
   "mimetype": "text/x-python",
   "name": "python",
   "nbconvert_exporter": "python",
   "pygments_lexer": "ipython3",
   "version": "3.6.7"
  }
 },
 "nbformat": 4,
 "nbformat_minor": 2
}
