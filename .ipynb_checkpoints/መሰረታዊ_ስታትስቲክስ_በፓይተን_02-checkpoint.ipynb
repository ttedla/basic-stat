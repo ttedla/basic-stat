{
 "cells": [
  {
   "cell_type": "markdown",
   "metadata": {},
   "source": [
    "# የስብጥርነት መለኪያዎች"
   ]
  },
  {
   "cell_type": "markdown",
   "metadata": {},
   "source": [
    "የስብጥርነት ወይም የመበታተንነት መለኪያዎች በውሂባችን ውስጥ የሚኖረውን የእሴት ልዩነት ለመለካት የሚያስችሉን ናቸው። ይህንን ስብጥር የምናጠቃልልበት መለኪያዎቻችን የስብጥርነት መለኪያዎች ይባላሉ። የመጀመሪያ የምንመለከተው አካላይነት ወይም ሬንጅ የምንለውን ይሆናል። በመቀጠልም ስታንዳርድ ዲቪየሽንን እና ልዩነት (ቫሪያንስን) እንመለከታለን። \n",
    "\n",
    "*** \n",
    "ለዜሮ የቀረበ የስብጥርነት እሴት ውሂቡ የተቀራረበ መሆኑን ያሳያል። የስብጥርነት መለኪያው እየጨመረ ሲሄድ ውሂቡ የተሰበጣጠረ መሆኑን ይጠቁማል። \n",
    "*** "
   ]
  },
  {
   "cell_type": "markdown",
   "metadata": {},
   "source": [
    "## ማዕከላዊነት ክለሳ"
   ]
  },
  {
   "cell_type": "markdown",
   "metadata": {},
   "source": [
    "በማእከላዊነት ያየናቸውን መለኪያዎች (አማካኝ፣ አጋማሽ እና ተደጋጋሚው እሴት) ተግባር እንጻፍ እና ድጋሚ እንቀምራቸው። "
   ]
  },
  {
   "cell_type": "code",
   "execution_count": 15,
   "metadata": {},
   "outputs": [],
   "source": [
    "# ፋይሉን ማምበብ \n",
    "import csv\n",
    "with open(\"./ውሂብ/የምረቃ_ውሂብ.csv\", 'r', encoding='utf-8') as ፋይል:\n",
    "    ውሂብ = list(csv.reader(ፋይል))\n",
    "    ዲፕሎማ_ተመራቂ = [float(ዲ[2]) for ዲ in ውሂብ[1:]] \n",
    "def አማካኝ(ቁጥር):\n",
    "    \"\"\" አማካኝ የሚቀምር ተግባር\"\"\"\n",
    "    return (sum(ቁጥር)/len(ቁጥር))\n",
    "\n",
    "def አጋማሽ(ቁጥር):\n",
    "    \"\"\" አጋማሽ የሚቀመር ተግባር \"\"\"\n",
    "    ረድፍ_የያዘ_ቁጥር = sorted(ቁጥር)\n",
    "    ብዛት = len(ቁጥር)\n",
    "    አጋማሹ_ቦታ = ብዛት//2 # ኢንቲጀር ማካፈል ነው \n",
    "    # ብዛቱ ጎዶሎ ቁጥር ከሆነ \n",
    "    if ብዛት%2==1:\n",
    "        return ረድፍ_የያዘ_ቁጥር[አጋማሹ_ቦታ] \n",
    "    else:\n",
    "        # ብዛቱ ሙሉ ቁጥር ከሆነ \n",
    "        ከላይ_ያለው = አጋማሹ_ቦታ\n",
    "        ከታች_ያለው = አጋማሹ_ቦታ - 1\n",
    "        return (ረድፍ_የያዘ_ቁጥር[ከላይ_ያለው] + ረድፍ_የያዘ_ቁጥር[ከታች_ያለው])/2    \n",
    "    \n",
    "def ተደጋጋሚው_እሴት(ቁጥር):\n",
    "    \"\"\" ተደጋጋሚውን እሴት የሚቀምር ተግባር\"\"\"\n",
    "    ተደጋጋሚ_ቆጠራ = {}\n",
    "    ዲፕሎማ_ተመራቂ = [float(ዲ[2]) for ዲ in ውሂብ[1:]] \n",
    "    for እሴት in ዲፕሎማ_ተመራቂ:\n",
    "        if እሴት not in ተደጋጋሚ_ቆጠራ:\n",
    "            ተደጋጋሚ_ቆጠራ[እሴት] =1\n",
    "        else:\n",
    "            ተደጋጋሚ_ቆጠራ[እሴት]+=1\n",
    "        \n",
    "    # ተደጋጋሚውን እሴት ለማግኘት \n",
    "    # ተደጋጋሚው ዜሮ ግዜ ነው የተደጋገመው ብለን ታሳቢ አድርገን እንነሳ\n",
    "    የተደጋጋሚው_ቆጠራ_ብዛት = 0\n",
    "    ተደጋጋሚው_እሴት = None\n",
    "\n",
    "    for ቁልፍ, እሴት in ተደጋጋሚ_ቆጠራ.items():\n",
    "        if የተደጋጋሚው_ቆጠራ_ብዛት < እሴት:\n",
    "            የተደጋጋሚው_ቆጠራ_ብዛት = እሴት\n",
    "            ተደጋጋሚው_እሴት=ቁልፍ\n",
    "    return(ተደጋጋሚው_እሴት) #, የተደጋጋሚው_ቆጠራ_ብዛት)   \n",
    "def አነስተኛ (ቁጥር):\n",
    "    \"\"\" ትንሹን ቁጥር የሚመልስ\"\"\"\n",
    "    return min(ቁጥር)\n",
    "\n",
    "def ከፍተኛ(ቁጥር):\n",
    "    \"\"\"ከፍተኛውን ቁጥር የሚመልስ\"\"\"\n",
    "    return max(ቁጥር)"
   ]
  },
  {
   "cell_type": "code",
   "execution_count": 12,
   "metadata": {},
   "outputs": [
    {
     "data": {
      "text/plain": [
       "770.7796610169491"
      ]
     },
     "execution_count": 12,
     "metadata": {},
     "output_type": "execute_result"
    }
   ],
   "source": [
    "# አማካኝ \n",
    "አማካኝ(ዲፕሎማ_ተመራቂ)"
   ]
  },
  {
   "cell_type": "code",
   "execution_count": 13,
   "metadata": {},
   "outputs": [
    {
     "data": {
      "text/plain": [
       "679.0"
      ]
     },
     "execution_count": 13,
     "metadata": {},
     "output_type": "execute_result"
    }
   ],
   "source": [
    "# አማካኝ \n",
    "አጋማሽ(ዲፕሎማ_ተመራቂ)"
   ]
  },
  {
   "cell_type": "code",
   "execution_count": 14,
   "metadata": {},
   "outputs": [
    {
     "data": {
      "text/plain": [
       "1.0"
      ]
     },
     "execution_count": 14,
     "metadata": {},
     "output_type": "execute_result"
    }
   ],
   "source": [
    "ተደጋጋሚው_እሴት(ዲፕሎማ_ተመራቂ)"
   ]
  },
  {
   "cell_type": "code",
   "execution_count": 16,
   "metadata": {},
   "outputs": [
    {
     "data": {
      "text/plain": [
       "1.0"
      ]
     },
     "execution_count": 16,
     "metadata": {},
     "output_type": "execute_result"
    }
   ],
   "source": [
    "አነስተኛ(ዲፕሎማ_ተመራቂ)"
   ]
  },
  {
   "cell_type": "code",
   "execution_count": 17,
   "metadata": {},
   "outputs": [
    {
     "data": {
      "text/plain": [
       "3299.0"
      ]
     },
     "execution_count": 17,
     "metadata": {},
     "output_type": "execute_result"
    }
   ],
   "source": [
    "ከፍተኛ(ዲፕሎማ_ተመራቂ)"
   ]
  },
  {
   "cell_type": "markdown",
   "metadata": {},
   "source": [
    "## አካላይነት (ሬንጅ)"
   ]
  },
  {
   "cell_type": "markdown",
   "metadata": {},
   "source": [
    "አካላይነት ወይም ሬንጅ የምንለው የስብጥርነት መለኪያ ከሆኑት አንዱ ነው። ዝቅተኛውን ከከፍተኛው በማቀናነስ የሚገኝ እሴት ነው። "
   ]
  },
  {
   "cell_type": "code",
   "execution_count": 18,
   "metadata": {},
   "outputs": [],
   "source": [
    "# አካላይነትን ለመቀመር \n",
    "def አካላይነት (ቁጥር):\n",
    "    \"\"\"አካላይነትን የሚሰራ ቁጥር\"\"\"\n",
    "    return (max(ቁጥር) - min(ቁጥር))"
   ]
  },
  {
   "cell_type": "code",
   "execution_count": 19,
   "metadata": {},
   "outputs": [
    {
     "data": {
      "text/plain": [
       "3298.0"
      ]
     },
     "execution_count": 19,
     "metadata": {},
     "output_type": "execute_result"
    }
   ],
   "source": [
    "# የዲፕሎማ ተመራቂ ተማሪዎችን አካላይነት ለመስራት ስለሆነ የምንፈልገው\n",
    "# የዲፕሎማ ተመራቂዎችን ዝርዝር እንውሰድ \n",
    "ዲፕሎማ_ተመራቂ = [float(ዲ[2]) for ዲ in ውሂብ[1:]]\n",
    "አካላይነት(ዲፕሎማ_ተመራቂ)"
   ]
  },
  {
   "cell_type": "markdown",
   "metadata": {},
   "source": [
    "ይሔ ምን ማለት ነው? የውሂባችን አጋማሽ 679 ሲሆን አካላይነት ደግሞ 3298 ነው። በሁለቱ መካከል እጅግ ከፍተኛ የሆነ ልዩነት አለ። ይሄም ውሂባችን በስብጥርነት የተጠቃ መሆኑን ማረጋገጥ እንችላለን። ይሔንን ዋጋ ከዲግሪ ወይም ከድህረምረቃ ተመራዊ ተማሪዎች አካላይነት ጋር ማወዳደር እንችላለን። \n",
    "\n",
    "ሌላኛው የስብጥርነት መለኪያ ልዩነትን ለመገንዘብ የሚረዳው ቫሪያንስ ወይም ልዩነት የምንለው ነው። እንደሚከተለው እንመለከተዋለን። "
   ]
  },
  {
   "cell_type": "markdown",
   "metadata": {},
   "source": [
    "## ልዩነት (ቫሪያንስ) "
   ]
  },
  {
   "cell_type": "markdown",
   "metadata": {},
   "source": [
    "ልዩነት (ቫሪያንስ) የምንለው እና ስታንዳርድ ዲቪየሽን የውሂባችንን ስብጥር በአማካኙ ዙርያ ምን ያክል እንደሆነ ይነግረናል። \n",
    "\n",
    "***\n",
    "$\\sigma^2 = \\frac{\\sum_{ቁ=1}^{የ} (አ{_i}-\\bar{አ})^2 }{የ-1} \\Rightarrow $ (ቁ)ጥር ከ አንድ እስከ (የ)ትዬለሌ ወይም በውሂባችን ውስጥ ያለውን ምልከታ ቁጥር ብዛት፤ (እ)ሴት የእያንዳንዱን ምልከታ ዋጋ ወይም እሴት ሲያመለክት $\\bar{አ}$ አማካኝን ያመለክታል። \n",
    "***"
   ]
  },
  {
   "cell_type": "code",
   "execution_count": 22,
   "metadata": {},
   "outputs": [],
   "source": [
    "# ለዩነትን ወይም ቫሪያንስን ለመቀመር \n",
    "def ልዩነት(ቁጥር):\n",
    "    #ቅናሽን 0 አድርገን እንነሳ\n",
    "    ቅናሽ = 0\n",
    "    አማካኝ = sum(ቁጥር)/len(ቁጥር)\n",
    "    #እያንዳንዱን እይታ አማካኙን እየቀነስን ስክዌር እናድርግ እና ቅናሽ ላይ እንደምረው \n",
    "    for እሴት in ቁጥር:\n",
    "        ቅናሽ += (እሴት - አማካኝ)**(2)\n",
    "    # ልዩነቱን በቁጥሩ ብዛት -1 አካፍሎ መመለስ \n",
    "    return (ቅናሽ)/(len(ቁጥር)-1)"
   ]
  },
  {
   "cell_type": "code",
   "execution_count": 23,
   "metadata": {},
   "outputs": [
    {
     "data": {
      "text/plain": [
       "486868.34716540034"
      ]
     },
     "execution_count": 23,
     "metadata": {},
     "output_type": "execute_result"
    }
   ],
   "source": [
    "# የዲፕሎማ ልዩነትን ለማግኘት \n",
    "ልዩነት(ዲፕሎማ_ተመራቂ)"
   ]
  },
  {
   "cell_type": "markdown",
   "metadata": {},
   "source": [
    "ይኼንን ቁጥር ትርጉም ለመስጠት ስናስብ መለኪያው ከዊሂባችን መለኪያ ስክዌር የተደረገ መሆኑን መገንዘብ ያስፈልጋል። ማለትም በሜትር የተሰበሰብ ውሂብ ከሆነ ልዩነት የሚነግረን በሜትር ስክዌር ነው። ስለዚህም ተመሳሳይ በሆነ የመለኪያ ዩኒት የውሂባችንን ስብጥር የሚነግረን ስታንዳርድ ዲቪየሽን ነው። "
   ]
  },
  {
   "cell_type": "markdown",
   "metadata": {},
   "source": [
    "## ስታንዳርድ ዲቪየሽን"
   ]
  },
  {
   "cell_type": "markdown",
   "metadata": {},
   "source": [
    "ስታንዳርድ ዲቪየሽን ልዩነትን በ ስክዌር ሩት ውስጥ ስናስገባ የምናገኘው ውጤት ነው። እንደሚከተለው መቀመር እንችላለን። "
   ]
  },
  {
   "cell_type": "code",
   "execution_count": 26,
   "metadata": {},
   "outputs": [],
   "source": [
    "# ስታንዳርድ ዲቪየሽን \n",
    "def ስታንዳርድ_ልዩነት(ቁጥር):\n",
    "    #ቅናሽን 0 አድርገን እንነሳ\n",
    "    ቅናሽ = 0\n",
    "    አማካኝ = sum(ቁጥር)/len(ቁጥር)\n",
    "    #እያንዳንዱን እይታ አማካኙን እየቀነስን ስክዌር እናድርግ እና ቅናሽ ላይ እንደምረው \n",
    "    for እሴት in ቁጥር:\n",
    "        ቅናሽ += (እሴት - አማካኝ)**(2)\n",
    "    # ልዩነቱን በቁጥሩ ብዛት -1 አካፍሎ መመለስ \n",
    "    return (ቅናሽ/(len(ቁጥር)-1))**(0.5)"
   ]
  },
  {
   "cell_type": "code",
   "execution_count": 27,
   "metadata": {},
   "outputs": [
    {
     "data": {
      "text/plain": [
       "697.7595195806363"
      ]
     },
     "execution_count": 27,
     "metadata": {},
     "output_type": "execute_result"
    }
   ],
   "source": [
    "# የዲፕሎማ ስታንዳርድ ልዩነትን ለማግኘት \n",
    "ስታንዳርድ_ልዩነት(ዲፕሎማ_ተመራቂ)"
   ]
  },
  {
   "cell_type": "markdown",
   "metadata": {},
   "source": [
    "ስታንዳርድ ዲቪየሽኑ ወይም ልዩነት 698 አካባቢ ነው። ይኽ ማለት የውሂባችን ስብጥር መደበኛ ወይም ኖርማል የምንለው ከሆነ 68% (የውሂባችን 68 እጁ) ከአማካኙ አንድ ስታንዳርድ ዲቪየሽን ይርቃል ማለት ነው። አማካኛችን 771 ስለሆነ የዳታችን እሴት 68 በመቶው የሚገኘው 771$\\pm$698 ሲገኝ የውሂባችን 95 እጁ ደግሞ 771$\\pm$2(698) እንዲሁም 99 በመቶ የሚሆነው 771$\\pm$3(698) ይገኛል ማለት ነው። ኢመደበኛ (ነን ኖርማል) ለሆነም እንዲሁ ስታንዳርድ ዲቪየሽንን የምንረዳበትን አግባብ [እዚህ](https://en.wikipedia.org/wiki/Chebyshev's_inequality) መመልከት ይቻላል።  "
   ]
  },
  {
   "cell_type": "markdown",
   "metadata": {},
   "source": [
    "# ማጠቃለያ"
   ]
  },
  {
   "cell_type": "markdown",
   "metadata": {},
   "source": [
    "መሰረታዊ የሆኑትን ገላጭ ስታትስቲክስ ለመመልከት ሞክረናል። በቀጣይ ተዛማጅነትን (ኮሪሌሽንን)  የምንገልጽባቸውን፤ የመተማመን ልዩነትን (ኮንፊደንስ ኢንተርቫል) እና ያገኘነው ውጤት ምን ያህል የተረጋገጠ ውሳኔ ለመስጠት እንደሚረዳን ለመግለጽ የምንጠቀምባቸውን የማረጋገጫ ፈተናዎች (አጋማሽን በመጠቀም የሚቀመሩ አሉ፣ አማካኝን በማነጻጸር የሚሰሩ አሉ)፤ እነዚህን በቀጣይነት እንመለከታለን። "
   ]
  }
 ],
 "metadata": {
  "kernelspec": {
   "display_name": "Python 3",
   "language": "python",
   "name": "python3"
  },
  "language_info": {
   "codemirror_mode": {
    "name": "ipython",
    "version": 3
   },
   "file_extension": ".py",
   "mimetype": "text/x-python",
   "name": "python",
   "nbconvert_exporter": "python",
   "pygments_lexer": "ipython3",
   "version": "3.6.7"
  }
 },
 "nbformat": 4,
 "nbformat_minor": 2
}
